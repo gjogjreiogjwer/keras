{
 "cells": [
  {
   "cell_type": "code",
   "execution_count": 2,
   "metadata": {},
   "outputs": [
    {
     "name": "stdout",
     "output_type": "stream",
     "text": [
      "25000 train sequences\n",
      "25000 test sequences\n",
      "input_train shape: (25000, 500)\n",
      "input_test shape: (25000, 500)\n"
     ]
    }
   ],
   "source": [
    "# 准备IMDB数据\n",
    "from keras.datasets import imdb\n",
    "from keras.preprocessing import sequence\n",
    "\n",
    "max_features = 10000\n",
    "maxlen = 500\n",
    "batch_size = 32\n",
    "\n",
    "(input_train, y_train), (input_test, y_test) = imdb.load_data(num_words=max_features)\n",
    "print (len(input_train), 'train sequences')\n",
    "print (len(input_test), 'test sequences')\n",
    "\n",
    "input_train = sequence.pad_sequences(input_train, maxlen=maxlen)\n",
    "input_test = sequence.pad_sequences(input_test, maxlen=maxlen)\n",
    "print ('input_train shape:', input_train.shape)\n",
    "print ('input_test shape:', input_test.shape)\n"
   ]
  },
  {
   "cell_type": "code",
   "execution_count": 4,
   "metadata": {},
   "outputs": [
    {
     "name": "stdout",
     "output_type": "stream",
     "text": [
      "WARNING:tensorflow:From /Users/jinyicheng/opt/anaconda3/lib/python3.7/site-packages/tensorflow/python/framework/op_def_library.py:263: colocate_with (from tensorflow.python.framework.ops) is deprecated and will be removed in a future version.\n",
      "Instructions for updating:\n",
      "Colocations handled automatically by placer.\n",
      "WARNING:tensorflow:From /Users/jinyicheng/opt/anaconda3/lib/python3.7/site-packages/tensorflow/python/ops/math_ops.py:3066: to_int32 (from tensorflow.python.ops.math_ops) is deprecated and will be removed in a future version.\n",
      "Instructions for updating:\n",
      "Use tf.cast instead.\n",
      "Train on 20000 samples, validate on 5000 samples\n",
      "Epoch 1/10\n",
      "20000/20000 [==============================] - 14s 684us/step - loss: 0.6520 - acc: 0.6026 - val_loss: 0.5657 - val_acc: 0.7212\n",
      "Epoch 2/10\n",
      "20000/20000 [==============================] - 14s 680us/step - loss: 0.4128 - acc: 0.8225 - val_loss: 0.3798 - val_acc: 0.8390\n",
      "Epoch 3/10\n",
      "20000/20000 [==============================] - 14s 683us/step - loss: 0.2921 - acc: 0.8835 - val_loss: 0.3879 - val_acc: 0.8266\n",
      "Epoch 4/10\n",
      "20000/20000 [==============================] - 14s 681us/step - loss: 0.2146 - acc: 0.9162 - val_loss: 0.4557 - val_acc: 0.8020\n",
      "Epoch 5/10\n",
      "20000/20000 [==============================] - 14s 687us/step - loss: 0.1654 - acc: 0.9385 - val_loss: 0.4059 - val_acc: 0.8584\n",
      "Epoch 6/10\n",
      "20000/20000 [==============================] - 13s 675us/step - loss: 0.1044 - acc: 0.9647 - val_loss: 0.4303 - val_acc: 0.8446\n",
      "Epoch 7/10\n",
      "20000/20000 [==============================] - 13s 672us/step - loss: 0.0691 - acc: 0.9777 - val_loss: 0.4623 - val_acc: 0.8446\n",
      "Epoch 8/10\n",
      "20000/20000 [==============================] - 14s 677us/step - loss: 0.0409 - acc: 0.9884 - val_loss: 0.6361 - val_acc: 0.7928\n",
      "Epoch 9/10\n",
      "20000/20000 [==============================] - 13s 665us/step - loss: 0.0310 - acc: 0.9905 - val_loss: 0.6367 - val_acc: 0.7990\n",
      "Epoch 10/10\n",
      "20000/20000 [==============================] - 14s 683us/step - loss: 0.0222 - acc: 0.9940 - val_loss: 0.7138 - val_acc: 0.7856\n"
     ]
    }
   ],
   "source": [
    "# 用一个Embedding层和一个SimpleRNN层来训练一个简单的循环网络\n",
    "from keras.layers import Dense, Embedding, SimpleRNN\n",
    "from keras.models import Sequential\n",
    "\n",
    "model = Sequential()\n",
    "model.add(Embedding(max_features, 32))\n",
    "model.add(SimpleRNN(32))\n",
    "model.add(Dense(1, activation='sigmoid'))\n",
    "\n",
    "model.compile(optimizer='rmsprop', loss='binary_crossentropy', metrics=['acc'])\n",
    "history = model.fit(input_train, y_train, epochs=10, batch_size=128, validation_split=0.2)"
   ]
  },
  {
   "cell_type": "code",
   "execution_count": null,
   "metadata": {},
   "outputs": [],
   "source": []
  }
 ],
 "metadata": {
  "kernelspec": {
   "display_name": "Python 3",
   "language": "python",
   "name": "python3"
  },
  "language_info": {
   "codemirror_mode": {
    "name": "ipython",
    "version": 3
   },
   "file_extension": ".py",
   "mimetype": "text/x-python",
   "name": "python",
   "nbconvert_exporter": "python",
   "pygments_lexer": "ipython3",
   "version": "3.7.4"
  }
 },
 "nbformat": 4,
 "nbformat_minor": 2
}

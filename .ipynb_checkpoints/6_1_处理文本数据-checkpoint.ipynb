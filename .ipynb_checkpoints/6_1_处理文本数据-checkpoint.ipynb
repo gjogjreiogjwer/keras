{
 "cells": [
  {
   "cell_type": "code",
   "execution_count": 2,
   "metadata": {
    "colab": {
     "base_uri": "https://localhost:8080/",
     "height": 80
    },
    "colab_type": "code",
    "executionInfo": {
     "elapsed": 3066,
     "status": "ok",
     "timestamp": 1582432552292,
     "user": {
      "displayName": "YiCheng JIN",
      "photoUrl": "https://lh3.googleusercontent.com/a-/AAuE7mDq_ycresqJgr3aSteeXFupXUJwowml_bhPrX-F=s64",
      "userId": "06528235970315919397"
     },
     "user_tz": -660
    },
    "id": "P3E-Z9QdTxKu",
    "outputId": "26bade77-79e7-41cd-c23a-37a656a930c4"
   },
   "outputs": [
    {
     "name": "stdout",
     "output_type": "stream",
     "text": [
      "[[1, 2, 3, 4, 1, 5], [1, 6, 7, 8, 9]]\n"
     ]
    }
   ],
   "source": [
    "# one-hot编码\n",
    "from keras.preprocessing.text import Tokenizer\n",
    "\n",
    "samples = ['the cat sat on the mat.', 'the dog ate my homework.']\n",
    "\n",
    "tokenizer = Tokenizer(num_words=1000)\n",
    "tokenizer.fit_on_texts(samples)\n",
    "\n",
    "sequences = tokenizer.texts_to_sequences(samples)\n",
    "print (sequences)\n",
    "\n",
    "one_hot_results = tokenizer.texts_to_matrix(samples, mode='binary')\n",
    "\n",
    "word_index = tokenizer.word_index"
   ]
  },
  {
   "cell_type": "code",
   "execution_count": 3,
   "metadata": {
    "colab": {
     "base_uri": "https://localhost:8080/",
     "height": 51
    },
    "colab_type": "code",
    "executionInfo": {
     "elapsed": 3426,
     "status": "ok",
     "timestamp": 1582432572976,
     "user": {
      "displayName": "YiCheng JIN",
      "photoUrl": "https://lh3.googleusercontent.com/a-/AAuE7mDq_ycresqJgr3aSteeXFupXUJwowml_bhPrX-F=s64",
      "userId": "06528235970315919397"
     },
     "user_tz": -660
    },
    "id": "g_UXXDpXVD6N",
    "outputId": "b1758391-c43f-4caa-efd8-570a6d0b45e4"
   },
   "outputs": [
    {
     "name": "stdout",
     "output_type": "stream",
     "text": [
      "[[0. 1. 1. ... 0. 0. 0.]\n",
      " [0. 1. 0. ... 0. 0. 0.]]\n"
     ]
    }
   ],
   "source": [
    "print (one_hot_results)"
   ]
  },
  {
   "cell_type": "code",
   "execution_count": 4,
   "metadata": {
    "colab": {
     "base_uri": "https://localhost:8080/",
     "height": 34
    },
    "colab_type": "code",
    "executionInfo": {
     "elapsed": 1842,
     "status": "ok",
     "timestamp": 1582432622436,
     "user": {
      "displayName": "YiCheng JIN",
      "photoUrl": "https://lh3.googleusercontent.com/a-/AAuE7mDq_ycresqJgr3aSteeXFupXUJwowml_bhPrX-F=s64",
      "userId": "06528235970315919397"
     },
     "user_tz": -660
    },
    "id": "ObVb9RlwVI2F",
    "outputId": "1461473a-b8a1-4f9d-8f14-73dcaf80ac60"
   },
   "outputs": [
    {
     "name": "stdout",
     "output_type": "stream",
     "text": [
      "[[1, 2, 3, 4, 1, 5], [1, 6, 7, 8, 9]]\n"
     ]
    }
   ],
   "source": [
    "print (sequences)"
   ]
  },
  {
   "cell_type": "code",
   "execution_count": 5,
   "metadata": {
    "colab": {
     "base_uri": "https://localhost:8080/",
     "height": 34
    },
    "colab_type": "code",
    "executionInfo": {
     "elapsed": 1724,
     "status": "ok",
     "timestamp": 1582432651200,
     "user": {
      "displayName": "YiCheng JIN",
      "photoUrl": "https://lh3.googleusercontent.com/a-/AAuE7mDq_ycresqJgr3aSteeXFupXUJwowml_bhPrX-F=s64",
      "userId": "06528235970315919397"
     },
     "user_tz": -660
    },
    "id": "tji-UnKBVYgL",
    "outputId": "2971f5d2-d78a-4b7a-9631-e8f532991964"
   },
   "outputs": [
    {
     "name": "stdout",
     "output_type": "stream",
     "text": [
      "{'the': 1, 'cat': 2, 'sat': 3, 'on': 4, 'mat': 5, 'dog': 6, 'ate': 7, 'my': 8, 'homework': 9}\n"
     ]
    }
   ],
   "source": [
    "print (word_index)"
   ]
  },
  {
   "cell_type": "code",
   "execution_count": 6,
   "metadata": {
    "colab": {
     "base_uri": "https://localhost:8080/",
     "height": 71
    },
    "colab_type": "code",
    "executionInfo": {
     "elapsed": 1822,
     "status": "ok",
     "timestamp": 1582433795340,
     "user": {
      "displayName": "YiCheng JIN",
      "photoUrl": "https://lh3.googleusercontent.com/a-/AAuE7mDq_ycresqJgr3aSteeXFupXUJwowml_bhPrX-F=s64",
      "userId": "06528235970315919397"
     },
     "user_tz": -660
    },
    "id": "wIAgZXlLVf9D",
    "outputId": "6318e226-2d7f-42ed-a247-697e8673c7a7"
   },
   "outputs": [
    {
     "name": "stdout",
     "output_type": "stream",
     "text": [
      "WARNING:tensorflow:From /usr/local/lib/python3.6/dist-packages/keras/backend/tensorflow_backend.py:66: The name tf.get_default_graph is deprecated. Please use tf.compat.v1.get_default_graph instead.\n",
      "\n"
     ]
    }
   ],
   "source": [
    "# 将一个Embedding层实例化\n",
    "from keras.layers import Embedding\n",
    "\n",
    "embedding_layer = Embedding(1000, 64)"
   ]
  },
  {
   "cell_type": "code",
   "execution_count": 7,
   "metadata": {
    "colab": {
     "base_uri": "https://localhost:8080/",
     "height": 51
    },
    "colab_type": "code",
    "executionInfo": {
     "elapsed": 15267,
     "status": "ok",
     "timestamp": 1582434039984,
     "user": {
      "displayName": "YiCheng JIN",
      "photoUrl": "https://lh3.googleusercontent.com/a-/AAuE7mDq_ycresqJgr3aSteeXFupXUJwowml_bhPrX-F=s64",
      "userId": "06528235970315919397"
     },
     "user_tz": -660
    },
    "id": "qahY_qdCZ3W9",
    "outputId": "84d0d2d2-ed53-467a-bfd5-003a787353b7"
   },
   "outputs": [
    {
     "name": "stdout",
     "output_type": "stream",
     "text": [
      "Downloading data from https://s3.amazonaws.com/text-datasets/imdb.npz\n",
      "17465344/17464789 [==============================] - 3s 0us/step\n"
     ]
    }
   ],
   "source": [
    "# 加载IMDB数据，准备用于Embedding层\n",
    "from keras.datasets import imdb\n",
    "from keras import preprocessing\n",
    "max_features = 10000\n",
    "maxlen = 20\n",
    "\n",
    "(x_train, y_train), (x_test, y_test) = imdb.load_data(num_words=max_features)\n",
    "\n",
    "x_train = preprocessing.sequence.pad_sequences(x_train, maxlen=maxlen)\n",
    "x_test = preprocessing.sequence.pad_sequences(x_test, maxlen=maxlen)"
   ]
  },
  {
   "cell_type": "code",
   "execution_count": 10,
   "metadata": {
    "colab": {
     "base_uri": "https://localhost:8080/",
     "height": 1000
    },
    "colab_type": "code",
    "executionInfo": {
     "elapsed": 32829,
     "status": "ok",
     "timestamp": 1582434361839,
     "user": {
      "displayName": "YiCheng JIN",
      "photoUrl": "https://lh3.googleusercontent.com/a-/AAuE7mDq_ycresqJgr3aSteeXFupXUJwowml_bhPrX-F=s64",
      "userId": "06528235970315919397"
     },
     "user_tz": -660
    },
    "id": "hS-GueysavuH",
    "outputId": "95756307-2d16-49c2-9289-152db946426c"
   },
   "outputs": [
    {
     "name": "stdout",
     "output_type": "stream",
     "text": [
      "WARNING:tensorflow:From /usr/local/lib/python3.6/dist-packages/keras/optimizers.py:793: The name tf.train.Optimizer is deprecated. Please use tf.compat.v1.train.Optimizer instead.\n",
      "\n",
      "WARNING:tensorflow:From /usr/local/lib/python3.6/dist-packages/keras/backend/tensorflow_backend.py:3657: The name tf.log is deprecated. Please use tf.math.log instead.\n",
      "\n",
      "WARNING:tensorflow:From /usr/local/lib/python3.6/dist-packages/tensorflow_core/python/ops/nn_impl.py:183: where (from tensorflow.python.ops.array_ops) is deprecated and will be removed in a future version.\n",
      "Instructions for updating:\n",
      "Use tf.where in 2.0, which has the same broadcast rule as np.where\n",
      "Model: \"sequential_2\"\n",
      "_________________________________________________________________\n",
      "Layer (type)                 Output Shape              Param #   \n",
      "=================================================================\n",
      "embedding_3 (Embedding)      (None, 20, 8)             80000     \n",
      "_________________________________________________________________\n",
      "flatten_1 (Flatten)          (None, 160)               0         \n",
      "_________________________________________________________________\n",
      "dense_1 (Dense)              (None, 1)                 161       \n",
      "=================================================================\n",
      "Total params: 80,161\n",
      "Trainable params: 80,161\n",
      "Non-trainable params: 0\n",
      "_________________________________________________________________\n",
      "WARNING:tensorflow:From /usr/local/lib/python3.6/dist-packages/keras/backend/tensorflow_backend.py:1033: The name tf.assign_add is deprecated. Please use tf.compat.v1.assign_add instead.\n",
      "\n",
      "WARNING:tensorflow:From /usr/local/lib/python3.6/dist-packages/keras/backend/tensorflow_backend.py:1020: The name tf.assign is deprecated. Please use tf.compat.v1.assign instead.\n",
      "\n",
      "WARNING:tensorflow:From /usr/local/lib/python3.6/dist-packages/keras/backend/tensorflow_backend.py:3005: The name tf.Session is deprecated. Please use tf.compat.v1.Session instead.\n",
      "\n",
      "Train on 20000 samples, validate on 5000 samples\n",
      "Epoch 1/10\n",
      "WARNING:tensorflow:From /usr/local/lib/python3.6/dist-packages/keras/backend/tensorflow_backend.py:190: The name tf.get_default_session is deprecated. Please use tf.compat.v1.get_default_session instead.\n",
      "\n",
      "WARNING:tensorflow:From /usr/local/lib/python3.6/dist-packages/keras/backend/tensorflow_backend.py:197: The name tf.ConfigProto is deprecated. Please use tf.compat.v1.ConfigProto instead.\n",
      "\n",
      "WARNING:tensorflow:From /usr/local/lib/python3.6/dist-packages/keras/backend/tensorflow_backend.py:207: The name tf.global_variables is deprecated. Please use tf.compat.v1.global_variables instead.\n",
      "\n",
      "WARNING:tensorflow:From /usr/local/lib/python3.6/dist-packages/keras/backend/tensorflow_backend.py:216: The name tf.is_variable_initialized is deprecated. Please use tf.compat.v1.is_variable_initialized instead.\n",
      "\n",
      "WARNING:tensorflow:From /usr/local/lib/python3.6/dist-packages/keras/backend/tensorflow_backend.py:223: The name tf.variables_initializer is deprecated. Please use tf.compat.v1.variables_initializer instead.\n",
      "\n",
      "20000/20000 [==============================] - 12s 595us/step - loss: 0.6602 - acc: 0.6372 - val_loss: 0.5981 - val_acc: 0.7108\n",
      "Epoch 2/10\n",
      "20000/20000 [==============================] - 2s 101us/step - loss: 0.5266 - acc: 0.7550 - val_loss: 0.5166 - val_acc: 0.7366\n",
      "Epoch 3/10\n",
      "20000/20000 [==============================] - 2s 108us/step - loss: 0.4559 - acc: 0.7903 - val_loss: 0.4979 - val_acc: 0.7482\n",
      "Epoch 4/10\n",
      "20000/20000 [==============================] - 2s 109us/step - loss: 0.4212 - acc: 0.8084 - val_loss: 0.4922 - val_acc: 0.7524\n",
      "Epoch 5/10\n",
      "20000/20000 [==============================] - 2s 102us/step - loss: 0.3974 - acc: 0.8205 - val_loss: 0.4935 - val_acc: 0.7534\n",
      "Epoch 6/10\n",
      "20000/20000 [==============================] - 2s 106us/step - loss: 0.3768 - acc: 0.8326 - val_loss: 0.4974 - val_acc: 0.7550\n",
      "Epoch 7/10\n",
      "20000/20000 [==============================] - 2s 108us/step - loss: 0.3588 - acc: 0.8423 - val_loss: 0.5020 - val_acc: 0.7522\n",
      "Epoch 8/10\n",
      "20000/20000 [==============================] - 2s 103us/step - loss: 0.3409 - acc: 0.8541 - val_loss: 0.5082 - val_acc: 0.7520\n",
      "Epoch 9/10\n",
      "20000/20000 [==============================] - 2s 106us/step - loss: 0.3237 - acc: 0.8629 - val_loss: 0.5146 - val_acc: 0.7484\n",
      "Epoch 10/10\n",
      "20000/20000 [==============================] - 2s 110us/step - loss: 0.3071 - acc: 0.8720 - val_loss: 0.5226 - val_acc: 0.7502\n"
     ]
    }
   ],
   "source": [
    "# 在IMDB数据上使用Embedding层和分类器\n",
    "from keras.models import Sequential\n",
    "from keras.layers import Flatten, Dense, Embedding\n",
    "\n",
    "model = Sequential()\n",
    "model.add(Embedding(10000, 8, input_length=maxlen))\n",
    "\n",
    "model.add(Flatten())\n",
    "\n",
    "model.add(Dense(1, activation='sigmoid'))\n",
    "model.compile(optimizer='rmsprop', loss='binary_crossentropy', metrics=['acc'])\n",
    "model.summary()\n",
    "\n",
    "history = model.fit(x_train, y_train,\n",
    "                    epochs=10,\n",
    "                    batch_size=32,\n",
    "                    validation_split=0.2)"
   ]
  },
  {
   "cell_type": "code",
   "execution_count": 0,
   "metadata": {
    "colab": {},
    "colab_type": "code",
    "id": "ZYTgBRNwbu7C"
   },
   "outputs": [],
   "source": []
  }
 ],
 "metadata": {
  "accelerator": "GPU",
  "colab": {
   "authorship_tag": "ABX9TyOpM9IX/cyRpCdGASAeFQgO",
   "name": "6_1_处理文本数据.ipynb",
   "provenance": []
  },
  "kernelspec": {
   "display_name": "Python 3",
   "language": "python",
   "name": "python3"
  },
  "language_info": {
   "codemirror_mode": {
    "name": "ipython",
    "version": 3
   },
   "file_extension": ".py",
   "mimetype": "text/x-python",
   "name": "python",
   "nbconvert_exporter": "python",
   "pygments_lexer": "ipython3",
   "version": "3.7.4"
  }
 },
 "nbformat": 4,
 "nbformat_minor": 1
}
